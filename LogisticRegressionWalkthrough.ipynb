{
 "cells": [
  {
   "cell_type": "markdown",
   "metadata": {},
   "source": [
    "## Logistic Regression"
   ]
  },
  {
   "cell_type": "markdown",
   "metadata": {},
   "source": [
    "### Aim\n",
    "Given a set of X inputs we want to assign them one of two possible categories (0,1). Logistic regression models the probability that each input belongs to a particular category.\n",
    "\n",
    "### Are we still solving a Linear Equation?\n",
    "Yes! The principle behind logistic regression still stands as trying to solve a linear equation. We need to estimate the best 'weights' which when combined with our input values (or independent variables) - gives us an estimation of our dependent variable (our output classification). The only difference is that a linear equation will give us a number, whereas we want a classification.\n",
    "\n",
    "$$z = W_0 + W_1X_1 + W_2X_2 + ... + W_nX_n$$\n",
    "\n",
    "However, here we will transform the output using a sigmoid function. to return a probability value between 0 and 1. Let's experiment with a sample dataset."
   ]
  },
  {
   "cell_type": "markdown",
   "metadata": {},
   "source": [
    "### IRIS Dataset\n",
    "The IRIS dataset is a well known starting exercise for classification models. It contains 3 classes of 50 instances each, representing a different type of the Iris plant. The dataset contains different features about the plant:\n",
    "\n",
    "- Sepal Length\n",
    "- Sepal Width\n",
    "- Petal Length\n",
    "- Petal Width\n",
    "\n",
    "These are our independent vectors. The last column of the dataset is our independent vector - the classes for each instance. In this exercise we will only use the first two features (sepal length and sepal width)."
   ]
  },
  {
   "cell_type": "code",
   "execution_count": 1,
   "metadata": {
    "scrolled": true
   },
   "outputs": [],
   "source": [
    "%matplotlib inline\n",
    "import numpy as np\n",
    "import matplotlib.pyplot as plt\n",
    "from sklearn.model_selection import train_test_split\n",
    "\n",
    "#Loading the sci-kit learn library\n",
    "from sklearn import datasets\n",
    "#Loading in the IRIS dataset\n",
    "iris = datasets.load_iris()\n",
    "#Filtering out only the first two feature vectors\n",
    "X = iris.data[:,:2]\n",
    "#We're only going to be differentiating between two classes\n",
    "#so we'll combine the second and third class into one\n",
    "y = (iris.target !=0)*1\n",
    "y = y.reshape(y.shape[0],1)"
   ]
  },
  {
   "cell_type": "code",
   "execution_count": 2,
   "metadata": {},
   "outputs": [
    {
     "data": {
      "image/png": "[encoded data removed]",
      "text/plain": [
       "<Figure size 432x288 with 1 Axes>"
      ]
     },
     "metadata": {},
     "output_type": "display_data"
    }
   ],
   "source": [
    "colors= ['orange' if l == 0 else 'purple' for l in y]\n",
    "plt.scatter(X[:,0],X[:,1],color = colors)\n",
    "plt.xlabel(\"Sepal Length\")\n",
    "plt.ylabel(\"Sepal Width\")\n",
    "plt.title(\"Sepal Length vs Sepal Width Distribution\")\n",
    "plt.show()"
   ]
  },
  {
   "cell_type": "markdown",
   "metadata": {},
   "source": [
    "We can see from this scatter plot that the two classes seem to be easily linearly separable. Let's get to work to find the right linear combination of weights and inputs which will help us classify these two types of iris plants correctly."
   ]
  },
  {
   "cell_type": "code",
   "execution_count": 3,
   "metadata": {},
   "outputs": [
    {
     "name": "stdout",
     "output_type": "stream",
     "text": [
      "Shape of Input Matrix X: (150, 3)\n",
      "Shape of Weights Matrix theta: (3, 1)\n"
     ]
    }
   ],
   "source": [
    "#Let's start by creating a function to initialize the weights\n",
    "#For our first attempt let's initialize the weights to 0\n",
    "def initialize_weights(features, random = True):\n",
    "    '''\n",
    "    Arguments:\n",
    "        features -- input matrix (n x m) for our feature set\n",
    "    Output:\n",
    "        Returns a zero vector of shape (m x 1)\n",
    "    '''\n",
    "    if random == True:\n",
    "        theta = np.random.rand(features.shape[1]).reshape(features.shape[1],1)\n",
    "    elif random == False:\n",
    "        theta = np.zeros(features.shape[1]).reshape(features.shape[1],1)\n",
    "    return theta\n",
    "\n",
    "#Let's add in the intercept terms to our input matrix.\n",
    "#The intercept term is the garbage collector of our model.\n",
    "#It accounts for any bias that is not accounted for by the terms in the model.\n",
    "def add_intercept(features):\n",
    "    '''\n",
    "    Arguments:\n",
    "        features -- input matrix (n x m) for our feature set\n",
    "    Output:\n",
    "        Returns an input matrix of shape (n x m+1) with a column\n",
    "        of 1's appended to the matrix\n",
    "    '''\n",
    "    intercept = np.ones((features.shape[0],1))\n",
    "    return np.concatenate((intercept, features), axis = 1)\n",
    "\n",
    "#Adding the intercept term\n",
    "X_ = add_intercept(X)\n",
    "#Initializing the weights matrix\n",
    "theta_ = initialize_weights(X_, random=False)\n",
    "\n",
    "#Let's look at the shapes of our input matrix X and\n",
    "#our weights matrix theta\n",
    "print(f\"Shape of Input Matrix X: {X_.shape}\")\n",
    "print(f\"Shape of Weights Matrix theta: {theta_.shape}\")"
   ]
  },
  {
   "cell_type": "markdown",
   "metadata": {},
   "source": [
    "### How to convert to a probability?\n",
    "A function takes inputs and returns outputs. To generate probabilities, we have to use a function which takes in any kind of input and returns it in terms of a probability -- oscillating between 0 and 1."
   ]
  },
  {
   "cell_type": "markdown",
   "metadata": {},
   "source": [
    "#### Sigmoid\n",
    "The idea behind <em>logistic regression</em> is that we want to use the values from the linear combination of our independent and dependent variables to classify our data. However, values generated through a linear equation will not fall in the scope of 0-1 probabilities. To convert the data into values between 0 and 1, we use a <em>sigmoid function</em>.\n",
    "\n",
    "A sigmoid funtion has a characteristic S-shaped curve, which means it oscillates between 0 and 1. We can convert our linear equation values into a probability using a sigmoid function. These probability values can then be used to give us a 0 or 1 binary classification. \n",
    "\n",
    "Here's an example of a common sigmoid function, known as the <em>logistic function</em>:\n",
    "<table>\n",
    "    <tr><td width = \"250px\">\n",
    "        $$h_\\theta(x) = {1\\over{1+e^{-\\theta^T x}}}$$\n",
    "        </td>\n",
    "        <td width = \"50%\">\n",
    "        $$\\begin{cases}\n",
    "\\text{if } y = 1, \\text{we want }h_\\theta \\approx 1 , \\theta^Tx >> 0\n",
    "\\\\\n",
    "            \\text{if } y = 0, \\text{we want }h_\\theta \\approx 0, \\theta^Tx << 0\n",
    "            \\end{cases}$$</td></tr>\n",
    "            <tr><td>where $\\theta$ is the weights vector and $x$ is the input vector</td></tr>\n",
    "</table>\n",
    "\n",
    "Another example is the <em>hyperbolic tangent</em> function (also known as the <em>tanh</em> function). It is a rescaled logistic function where the outputs range between -1 and 1. It is more useful for neural networks. The advantage it holds over the logistic function is that the negative inputs will be mapped strongly negative and the zero inputs will be mapped near zero in the tanh graph.\n",
    "\n",
    "<table>\n",
    "    <tr><td width = \"250px\">\n",
    "        $$h_\\theta(x) = {tanh_\\theta(x)} = {{e^{\\theta^T x} - e^{-{\\theta^T x}}}\\over{e^{\\theta^T x} + e^{-{\\theta^T x}}}}$$\n",
    "        </td>\n",
    "        <td width = \"50%\">\n",
    "        $$\\begin{cases}\n",
    "\\text{if } y = 1, \\text{we want }h_\\theta \\approx 1 , \\theta^Tx >> 0\n",
    "\\\\\n",
    "            \\text{if } y = 0, \\text{we want }h_\\theta \\approx -1, \\theta^Tx << 0\n",
    "            \\end{cases}$$</td></tr>\n",
    "            <tr><td>where $\\theta$ is the weights vector and $x$ is the input vector</td></tr>\n",
    "</table>\n",
    "\n",
    "\n",
    "Let's see how the sigmoid function maps out on a plot."
   ]
  },
  {
   "cell_type": "code",
   "execution_count": 4,
   "metadata": {},
   "outputs": [],
   "source": [
    "#Defining the sigmoid functions\n",
    "def sigmoid_logistic(x):\n",
    "    '''\n",
    "    Arguments:\n",
    "        x -- Product of weight and input feature (or vector)\n",
    "    Output:\n",
    "        Returns the sigmoid of the product (vector)\n",
    "    '''\n",
    "    return 1/(1+np.e**(-x))\n",
    "\n",
    "def sigmoid_tanh(x):\n",
    "    '''\n",
    "    Arguments:\n",
    "        x -- Product of weight and input feature (or vector)\n",
    "    Output:\n",
    "        Returns the sigmoid of the product (vector)\n",
    "    '''\n",
    "\n",
    "    return (np.e**x - np.e**(-x))/(np.e**x + np.e**(-x))"
   ]
  },
  {
   "cell_type": "code",
   "execution_count": 5,
   "metadata": {},
   "outputs": [
    {
     "data": {
      "image/png": "[encoded data removed]",
      "text/plain": [
       "<Figure size 936x360 with 2 Axes>"
      ]
     },
     "metadata": {},
     "output_type": "display_data"
    }
   ],
   "source": [
    "#Creating an array\n",
    "# x = np.arange(-10,11,0.001)\n",
    "x = np.random.normal(0,3,10000)\n",
    "x.sort()\n",
    "#Using the sigmoid on the array\n",
    "z1 = sigmoid_logistic(x)\n",
    "z2 = sigmoid_tanh(x)\n",
    "#Plot\n",
    "f = plt.figure(figsize=(13,5))\n",
    "ax1 = f.add_subplot(121)\n",
    "ax2 = f.add_subplot(122)\n",
    "ax1.plot(x,z1)\n",
    "ax1.axhline(0.5, color = \"green\")\n",
    "ax1.legend([\"Sigmoid\",\"Decision Boundary\"])\n",
    "ax1.set_xlabel(\"x\")\n",
    "ax1.set_ylabel(\"sigmoid\")\n",
    "ax2.plot(x,z2)\n",
    "ax2.axhline(0, color = \"green\")\n",
    "ax2.legend([\"Sigmoid\",\"Decision Boundary\"])\n",
    "ax2.set_xlabel(\"x\")\n",
    "ax2.set_ylabel(\"sigmoid\")\n",
    "ax1.set_title(\"Logistic Function\")\n",
    "ax2.set_title(\"Hyperbolic Tangent Function\")\n",
    "plt.show()"
   ]
  },
  {
   "cell_type": "markdown",
   "metadata": {},
   "source": [
    "As we can see the function oscillates between 0 and 1 for any range of inputs. We use the output of the sigmoid function to classify our samples depending on whether the sigmoid ouput is above or below a specified threshold. In this case we can classify anything above our decision boundary as 1 and anything below as 0."
   ]
  },
  {
   "cell_type": "markdown",
   "metadata": {},
   "source": [
    "#### Predict\n",
    "Now, let's creat the predict function. It will find the dot product between the weights matrix and the input matrix and then use the sigmoid function to find the probability of each input row of being part of class 1 or 0."
   ]
  },
  {
   "cell_type": "code",
   "execution_count": 6,
   "metadata": {},
   "outputs": [
    {
     "name": "stdout",
     "output_type": "stream",
     "text": [
      "Shape of predictions: (150, 1)\n"
     ]
    }
   ],
   "source": [
    "def predict(features, weights):\n",
    "    '''\n",
    "    Returns 1 dimensional array of probabilities\n",
    "    for class label == 1\n",
    "    '''    \n",
    "    z = np.dot(features, weights)\n",
    "    return sigmoid_logistic(z)\n",
    "\n",
    "#Let's test it and see what we get\n",
    "predictions_ = predict(X_,theta_)\n",
    "print(f\"Shape of predictions: {predictions_.shape}\")"
   ]
  },
  {
   "cell_type": "markdown",
   "metadata": {},
   "source": [
    "### Evaluating our prediction\n",
    "#### Cost Function\n",
    "The cost funtion is used to identify how good our prediction for a certain sample or a set of samples actually is when compared with the correct classifications. Our prediction is non-linear due to the sigmoid function, hence, we cannot use the L2 loss function. Instead we use the <b>Cross-Entropy</b> (also known as <em>Log Loss</em>) function. It can be thought of as a combination of two separate loss functions, one for $y=1$ and one for $y=0$.\n",
    "\n",
    "Cost of a single example:\n",
    "<table>\n",
    "    <tr><td width = \"450px\">\n",
    "$$L_{cost} = {-y\\log{1\\over{1+e^{-\\theta^{T}x}}}} - {(1-y)\\log{1-{1\\over{1+e^{-\\theta^T x}}}}}$$</td>\n",
    "        <td width = \"300px\">\n",
    "            $$\\begin{cases}\n",
    "            \\text{if } y=1, \\text{we want } \\theta^T x >> 0 \\\\\n",
    "            \\text{if } y=0, \\text{we want } \\theta^T x << 0\n",
    "            \\end{cases}$$\n",
    "        </td></tr></table>\n",
    "        \n",
    "Total Cost:\n",
    "<table>\n",
    "    <tr><td width = \"550px\">\n",
    "$$J(\\theta) = min_\\theta {1\\over{m}} \\Bigl [ \\sum^m_{i=1} y^{(i)} (-log \\ h_\\theta(x^{(i)})) + (1-y^{(i)}) \\ ((-log(1-h_\\theta(x^{(i)}))) \\Bigr ] + {\\lambda\\over{2m}} \\ {{\\sum^n_{i=1} \\theta^2_j}} $$</td></tr>\n",
    "    <tr><td>\n",
    "        $$\\text{where } \\lambda \\text{ is the regularization parameter}$$</td></tr>\n",
    "    </table>\n",
    "    \n",
    "\n",
    "The benefits of using these loss functions is revealed when we look at their graphs."
   ]
  },
  {
   "cell_type": "code",
   "execution_count": 7,
   "metadata": {},
   "outputs": [
    {
     "data": {
      "image/png": "[encoded data removed]",
      "text/plain": [
       "<Figure size 936x360 with 2 Axes>"
      ]
     },
     "metadata": {},
     "output_type": "display_data"
    }
   ],
   "source": [
    "#Defining the loss function for y == 1\n",
    "def loss_y1(x): return -np.log(x)\n",
    "#Defining the loss function for y == 0\n",
    "def loss_y2(x): return -np.log(1-x)\n",
    "\n",
    "#Calculating the loss\n",
    "a1_loss = loss_y1(z1)\n",
    "a2_loss = loss_y2(z1)\n",
    "\n",
    "#Plot\n",
    "f = plt.figure(figsize=(13,5))\n",
    "ax1 = f.add_subplot(121)\n",
    "ax2 = f.add_subplot(122)\n",
    "ax1.plot(z1,a1_loss)\n",
    "ax1.set_xlabel(\"z\")\n",
    "ax1.set_ylabel(\"loss\")\n",
    "ax2.plot(z2,a2_loss)\n",
    "ax2.set_xlabel(\"z\")\n",
    "ax2.set_ylabel(\"loss\")\n",
    "ax1.set_title(\"Loss for y == 1\")\n",
    "ax2.set_title(\"Loss for y == 0\")\n",
    "plt.show()"
   ]
  },
  {
   "cell_type": "markdown",
   "metadata": {},
   "source": [
    "These smooth monotonic functions (always increasing or decreasing) make it easy to calculate the gradient and minimize cost."
   ]
  },
  {
   "cell_type": "code",
   "execution_count": 20,
   "metadata": {},
   "outputs": [
    {
     "name": "stdout",
     "output_type": "stream",
     "text": [
      "Cost of one iteration: 0.6931471805599454\n"
     ]
    }
   ],
   "source": [
    "#The loss/cost function\n",
    "def cost_function(features, labels, weights, reg):\n",
    "    '''\n",
    "    Using Mean Absolute Error\n",
    "\n",
    "    Features:(m,n)\n",
    "    Labels: (m,1)\n",
    "    Weights:(n,1)\n",
    "    Returns 1D matrix of predictions\n",
    "    Cost = ( log(predictions) + (1-labels)*log(1-predictions) ) / len(labels)\n",
    "    '''\n",
    "    observations = len(labels)\n",
    "\n",
    "    predictions = predict(features, weights)\n",
    "\n",
    "    #Take the error when label=1\n",
    "    class1_cost = -labels*np.log(predictions)\n",
    "\n",
    "    #Take the error when label=0\n",
    "    class2_cost = (1-labels)*-np.log(1-predictions)\n",
    "\n",
    "    regularization_term = reg/(2*observations) * np.sum(np.square(weights))\n",
    "    #Take the sum of both costs\n",
    "    cost = class1_cost + class2_cost + regularization_term\n",
    "\n",
    "    #Take the average cost\n",
    "    cost = cost.sum()/observations\n",
    "\n",
    "    return cost\n",
    "\n",
    "print(f\"Cost of one iteration: {cost_function(X_,y,theta_,0.1)}\")"
   ]
  },
  {
   "cell_type": "markdown",
   "metadata": {},
   "source": [
    "### Gradient Descent\n",
    "Gradient Descent is an optimization algorithm used to minimize some function by iteratively moving in the direction of the steepest descent as defined by the negative of the gradient. Consider the 3-dimensional graph below in the context of a cost function. Our goal is to move from the mountain in the top right corner (high cost) to the dark blue sea in the bottom left (low cost). \n",
    "\n",
    "<img src = \"images/gradient_descent.png\">\n",
    "\n",
    "Starting at the top of the mountain, we take our first step downhill in the direction specified by the negative gradient. Next we recalculate the negative gradient (passing in the coordinates of our new point) and take another step in the direction it specifies. We continue this process iteratively until we get to the bottom of our graph, or to a point where we can no longer move downhill–a local minimum. [<a href = \"https://youtu.be/5u0jaA3qAGk\">Image Source</a>]\n",
    "\n",
    "<img src = \"images/gradient_descent_demystified.png\">\n",
    "\n",
    "#### Learning Rate\n",
    "The size of these steps is called the learning rate. With a high learning rate we can cover more ground each step, but we risk overshooting the lowest point since the slope of the hill is constantly changing. With a very low learning rate, we can confidently move in the direction of the negative gradient since we are recalculating it so frequently. A low learning rate is more precise, but calculating the gradient is time-consuming, so it will take us a very long time to get to the bottom.\n",
    "\n",
    "$$ {\\delta{J(\\theta)}\\over{\\delta\\theta_j}} = {1\\over{m}} \\ X^T (g(X\\theta) - y)$$\n",
    "where:\n",
    "- m -- number of observations\n",
    "- X -- feature vector\n",
    "- y -- labels\n",
    "- $\\theta$ -- weights\n",
    "- g(X$\\theta$) -- predictions"
   ]
  },
  {
   "cell_type": "code",
   "execution_count": 21,
   "metadata": {},
   "outputs": [],
   "source": [
    "#Gradient Descent\n",
    "def update_weights(features, labels, weights, lr):\n",
    "    '''\n",
    "    Vectorized Gradient Descent\n",
    "\n",
    "    Features:(200, 3)\n",
    "    Labels: (200, 1)\n",
    "    Weights:(3, 1)\n",
    "    '''\n",
    "    N = len(features)\n",
    "\n",
    "    # Get Predictions\n",
    "    predictions = predict(features, weights)\n",
    "\n",
    "    # Transpose features from (n, m) to (m, n)\n",
    "    # So we can multiply w the (n,1)  cost matrix.\n",
    "    # Returns a (m,1) matrix holding m partial derivatives --\n",
    "    # one for each feature -- representing the aggregate\n",
    "    # slope of the cost function across all observations\n",
    "    gradient = np.dot(features.T,  predictions - labels)\n",
    "\n",
    "    # Take the average cost derivative for each feature\n",
    "    gradient /= N\n",
    "\n",
    "    # Multiply the gradient by our learning rate\n",
    "    gradient *= lr\n",
    "\n",
    "    # Subtract from our weights to minimize cost\n",
    "    weights -= gradient\n",
    "\n",
    "    return weights\n"
   ]
  },
  {
   "cell_type": "code",
   "execution_count": 22,
   "metadata": {},
   "outputs": [
    {
     "data": {
      "text/plain": [
       "array([0, 0, 0, 0, 0, 0, 0, 0, 0, 0, 0, 0, 0, 0, 0, 0, 0, 0, 0, 0, 0, 0,\n",
       "       0, 0, 0, 0, 0, 0, 0, 0, 0, 0, 0, 0, 0, 0, 0, 0, 0, 0, 0, 0, 0, 0,\n",
       "       0, 0, 0, 0, 0, 0, 0, 0, 0, 0, 0, 0, 0, 0, 0, 0, 0, 0, 0, 0, 0, 0,\n",
       "       0, 0, 0, 0, 0, 0, 0, 0, 0, 0, 0, 0, 0, 0, 0, 0, 0, 0, 0, 0, 0, 0,\n",
       "       0, 0, 0, 0, 0, 0, 0, 0, 0, 0, 0, 0, 0, 0, 0, 0, 0, 0, 0, 0, 0, 0,\n",
       "       0, 0, 0, 0, 0, 0, 0, 0, 0, 0, 0, 0, 0, 0, 0, 0, 0, 0, 0, 0, 0, 0,\n",
       "       0, 0, 0, 0, 0, 0, 0, 0, 0, 0, 0, 0, 0, 0, 0, 0, 0, 0])"
      ]
     },
     "execution_count": 22,
     "metadata": {},
     "output_type": "execute_result"
    }
   ],
   "source": [
    "#Creating the decision boundary\n",
    "def decision_boundary(prob):\n",
    "    return 1 if prob > 0.5 else 0\n",
    "\n",
    "#Converting probabilities to classes \n",
    "def classify(preds):\n",
    "    '''\n",
    "    input - N element array of predictions between 0 and 1\n",
    "    output - N element array of 0's (false) and 1's (true)\n",
    "    '''\n",
    "    #referencing our decision boundary function\n",
    "    db = np.vectorize(decision_boundary)\n",
    "    return db(preds).flatten()\n",
    "\n",
    "#Example output\n",
    "predictions_ = predict(X_,theta_)\n",
    "classifications = classify(predictions_)\n",
    "classifications"
   ]
  },
  {
   "cell_type": "code",
   "execution_count": 23,
   "metadata": {},
   "outputs": [
    {
     "name": "stdout",
     "output_type": "stream",
     "text": [
      "Shape of X_train: (100, 2), Shape of X_test: (50, 2),\n",
      " Shape of y_train: (100, 1), Shape of y_test: (50, 1)\n"
     ]
    }
   ],
   "source": [
    "#Splitting the data into training and testing sets\n",
    "X_train, X_test, y_train, y_test = train_test_split(X,y, test_size = 0.33, random_state = 42)\n",
    "print(f\"Shape of X_train: {X_train.shape}, Shape of X_test: {X_test.shape},\\n \\\n",
    "Shape of y_train: {y_train.shape}, Shape of y_test: {y_test.shape}\")"
   ]
  },
  {
   "cell_type": "code",
   "execution_count": 30,
   "metadata": {},
   "outputs": [
    {
     "name": "stdout",
     "output_type": "stream",
     "text": [
      "iteration: 0, cost: 0.6730850592267553\n",
      "iteration: 1000, cost: 0.3284160948661242\n",
      "iteration: 2000, cost: 0.23160468560846176\n",
      "iteration: 3000, cost: 0.18414885926342756\n",
      "iteration: 4000, cost: 0.1560660408522386\n",
      "iteration: 5000, cost: 0.13744679551706873\n",
      "iteration: 6000, cost: 0.12414906182190767\n",
      "iteration: 7000, cost: 0.11414463795264541\n",
      "iteration: 8000, cost: 0.10632386232601056\n",
      "iteration: 9000, cost: 0.10002803074648405\n",
      "iteration: 10000, cost: 0.09484098377877898\n",
      "iteration: 11000, cost: 0.09048655874053489\n",
      "iteration: 12000, cost: 0.08677407411230434\n",
      "iteration: 13000, cost: 0.08356749071996601\n",
      "iteration: 14000, cost: 0.08076705378512211\n",
      "iteration: 15000, cost: 0.07829788889131384\n",
      "iteration: 16000, cost: 0.07610265702312456\n",
      "iteration: 17000, cost: 0.07413667477016965\n",
      "iteration: 18000, cost: 0.07236458376184618\n",
      "iteration: 19000, cost: 0.07075802316015278\n",
      "iteration: 20000, cost: 0.06929396882466961\n",
      "iteration: 21000, cost: 0.06795352597954506\n",
      "iteration: 22000, cost: 0.06672103683003776\n",
      "iteration: 23000, cost: 0.06558341101163365\n",
      "iteration: 24000, cost: 0.06452961636644812\n",
      "iteration: 25000, cost: 0.06355028684519251\n",
      "iteration: 26000, cost: 0.06263741717037564\n",
      "iteration: 27000, cost: 0.06178412259010679\n",
      "iteration: 28000, cost: 0.06098444803800256\n",
      "iteration: 29000, cost: 0.060233215199838035\n",
      "iteration: 30000, cost: 0.05952589895496864\n",
      "iteration: 31000, cost: 0.05885852679199686\n",
      "iteration: 32000, cost: 0.05822759634770676\n",
      "iteration: 33000, cost: 0.057630007357464576\n",
      "iteration: 34000, cost: 0.05706300515155113\n",
      "iteration: 35000, cost: 0.0565241334667168\n",
      "iteration: 36000, cost: 0.05601119482282907\n",
      "iteration: 37000, cost: 0.05552221708141627\n",
      "iteration: 38000, cost: 0.055055425085341864\n",
      "iteration: 39000, cost: 0.05460921649788825\n",
      "iteration: 40000, cost: 0.05418214113062193\n",
      "iteration: 41000, cost: 0.0537728831839753\n",
      "iteration: 42000, cost: 0.05338024593097382\n",
      "iteration: 43000, cost: 0.05300313845934283\n",
      "iteration: 44000, cost: 0.05264056415514652\n",
      "iteration: 45000, cost: 0.0522916106658057\n",
      "iteration: 46000, cost: 0.05195544112461577\n",
      "iteration: 47000, cost: 0.051631286454904474\n",
      "iteration: 48000, cost: 0.05131843860141145\n",
      "iteration: 49000, cost: 0.05101624456064366\n",
      "iteration: 50000, cost: 0.05072410110189863\n",
      "iteration: 51000, cost: 0.05044145008715351\n",
      "iteration: 52000, cost: 0.050167774311743664\n",
      "iteration: 53000, cost: 0.04990259379920579\n",
      "iteration: 54000, cost: 0.049645462493255736\n",
      "iteration: 55000, cost: 0.049395965297933817\n",
      "iteration: 56000, cost: 0.04915371542374888\n",
      "iteration: 57000, cost: 0.048918352003409674\n",
      "iteration: 58000, cost: 0.04868953794561068\n",
      "iteration: 59000, cost: 0.04846695799950029\n",
      "iteration: 60000, cost: 0.048250317006006405\n",
      "iteration: 61000, cost: 0.0480393383152347\n",
      "iteration: 62000, cost: 0.047833762351760595\n",
      "iteration: 63000, cost: 0.04763334531188437\n",
      "iteration: 64000, cost: 0.04743785797885284\n",
      "iteration: 65000, cost: 0.047247084643729134\n",
      "iteration: 66000, cost: 0.04706082212104341\n",
      "iteration: 67000, cost: 0.04687887884961985\n",
      "iteration: 68000, cost: 0.04670107407007593\n",
      "iteration: 69000, cost: 0.04652723707144713\n",
      "iteration: 70000, cost: 0.046357206500231805\n",
      "iteration: 71000, cost: 0.04619082972588486\n",
      "iteration: 72000, cost: 0.04602796225743539\n",
      "iteration: 73000, cost: 0.045868467206469844\n",
      "iteration: 74000, cost: 0.04571221479222621\n",
      "iteration: 75000, cost: 0.045559081884982415\n",
      "iteration: 76000, cost: 0.04540895158431693\n",
      "iteration: 77000, cost: 0.04526171282916265\n",
      "iteration: 78000, cost: 0.04511726003688502\n",
      "iteration: 79000, cost: 0.04497549276888745\n",
      "iteration: 80000, cost: 0.04483631542048936\n",
      "iteration: 81000, cost: 0.04469963693304052\n",
      "iteration: 82000, cost: 0.04456537052642826\n",
      "iteration: 83000, cost: 0.04443343345030624\n",
      "iteration: 84000, cost: 0.04430374675253068\n",
      "iteration: 85000, cost: 0.04417623506342561\n",
      "iteration: 86000, cost: 0.044050826394628116\n",
      "iteration: 87000, cost: 0.04392745195137041\n",
      "iteration: 88000, cost: 0.04380604595716326\n",
      "iteration: 89000, cost: 0.043686545489930895\n",
      "iteration: 90000, cost: 0.04356889032873263\n",
      "iteration: 91000, cost: 0.04345302281027949\n",
      "iteration: 92000, cost: 0.04333888769452166\n",
      "iteration: 93000, cost: 0.043226432038642265\n",
      "iteration: 94000, cost: 0.043115605078850025\n",
      "iteration: 95000, cost: 0.043006358119411205\n",
      "iteration: 96000, cost: 0.042898644428407795\n",
      "iteration: 97000, cost: 0.0427924191397499\n",
      "iteration: 98000, cost: 0.04268763916100784\n",
      "iteration: 99000, cost: 0.042584263086664055\n"
     ]
    }
   ],
   "source": [
    "#Training code\n",
    "def train(features, labels, lr, iters, reg):\n",
    "    cost_history = []\n",
    "    #Add intercept term to features\n",
    "    features = add_intercept(features)\n",
    "    #Initialize weights\n",
    "    weights = initialize_weights(features,random=False)\n",
    "    for i in range(iters):\n",
    "        weights = update_weights(features, labels, weights, lr)\n",
    "        \n",
    "        #Calculate error\n",
    "        cost = cost_function(features, labels, weights,reg)\n",
    "        cost_history.append(cost)\n",
    "        \n",
    "        #Log progress\n",
    "        if i%1000 == 0:\n",
    "            print(f\"iteration: {i}, cost: {cost}\")\n",
    "            \n",
    "    return weights, cost_history\n",
    "\n",
    "W, cost_history = train(X_train, y_train, lr = 0.01, iters = 100000, reg = 0)"
   ]
  },
  {
   "cell_type": "code",
   "execution_count": 31,
   "metadata": {},
   "outputs": [
    {
     "name": "stdout",
     "output_type": "stream",
     "text": [
      "Accuracy of our classifier: 100.0%\n"
     ]
    }
   ],
   "source": [
    "#Accuracy\n",
    "def accuracy(predicted_labels, actual_labels):\n",
    "    diff = predicted_labels - actual_labels\n",
    "    return 1.0 - (float(np.count_nonzero(diff)) / len(diff))\n",
    "\n",
    "predictions = classify(predict(add_intercept(X_test),W))\n",
    "print(f\"Accuracy of our classifier: {round(accuracy(predictions.reshape(predictions.shape[0],1),y_test),5)*100}%\")"
   ]
  },
  {
   "cell_type": "code",
   "execution_count": 32,
   "metadata": {},
   "outputs": [
    {
     "data": {
      "image/png": "[encoded data removed]",
      "text/plain": [
       "<Figure size 432x288 with 2 Axes>"
      ]
     },
     "metadata": {},
     "output_type": "display_data"
    }
   ],
   "source": [
    "#Plotting the confusion matrix\n",
    "from sklearn.metrics import confusion_matrix\n",
    "import seaborn as sns\n",
    "tn, fp, fn, tp = confusion_matrix(y_test,predictions).ravel()\n",
    "cm = confusion_matrix(y_test, predictions)\n",
    "ax= plt.subplot()\n",
    "sns.heatmap(cm, annot=True, ax = ax); #annot=True to annotate cells\n",
    "\n",
    "# labels, title and ticks\n",
    "ax.set_xlabel('Predicted labels');ax.set_ylabel('True labels'); \n",
    "ax.set_title('Confusion Matrix'); \n",
    "ax.xaxis.set_ticklabels(['0', '1']); ax.yaxis.set_ticklabels(['0', '1']);"
   ]
  },
  {
   "cell_type": "code",
   "execution_count": 33,
   "metadata": {},
   "outputs": [
    {
     "name": "stdout",
     "output_type": "stream",
     "text": [
      "Scikit score: 1.0\n"
     ]
    },
    {
     "name": "stderr",
     "output_type": "stream",
     "text": [
      "/Applications/anaconda3/envs/cs231n/lib/python3.6/site-packages/sklearn/utils/validation.py:578: DataConversionWarning: A column-vector y was passed when a 1d array was expected. Please change the shape of y to (n_samples, ), for example using ravel().\n",
      "  y = column_or_1d(y, warn=True)\n"
     ]
    }
   ],
   "source": [
    "#Let's compare with scipy\n",
    "import sklearn\n",
    "from sklearn.linear_model import LogisticRegression\n",
    "from sklearn.model_selection import train_test_split\n",
    "\n",
    "# Scikit Logistic Regression\n",
    "scikit_log_reg = LogisticRegression(penalty=\"l2\")\n",
    "scikit_log_reg.fit(X_train,y_train)\n",
    "\n",
    "#Score is Mean Accuracy\n",
    "scikit_score = scikit_log_reg.score(X_test,y_test)\n",
    "print(f'Scikit score: {scikit_score}')\n"
   ]
  },
  {
   "cell_type": "code",
   "execution_count": null,
   "metadata": {},
   "outputs": [],
   "source": []
  },
  {
   "cell_type": "code",
   "execution_count": null,
   "metadata": {},
   "outputs": [],
   "source": []
  }
 ],
 "metadata": {
  "kernelspec": {
   "display_name": "Python 3",
   "language": "python",
   "name": "python3"
  },
  "language_info": {
   "codemirror_mode": {
    "name": "ipython",
    "version": 3
   },
   "file_extension": ".py",
   "mimetype": "text/x-python",
   "name": "python",
   "nbconvert_exporter": "python",
   "pygments_lexer": "ipython3",
   "version": "3.6.4"
  }
 },
 "nbformat": 4,
 "nbformat_minor": 2
}
